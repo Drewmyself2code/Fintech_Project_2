{
 "cells": [
  {
   "cell_type": "markdown",
   "metadata": {},
   "source": [
    "# FinTech Project Two\n",
    "### Summary"
   ]
  },
  {
   "cell_type": "markdown",
   "metadata": {},
   "source": [
    "### Section 1. Data Preparation\n",
    "Import and initialization of libraries "
   ]
  },
  {
   "cell_type": "code",
   "execution_count": null,
   "metadata": {},
   "outputs": [],
   "source": [
    "# Imports of OS and API libraries\n",
    "\n",
    "import os\n",
    "from dotenv import load_dotenv\n",
    "import requests\n",
    "from binance import Client"
   ]
  },
  {
   "cell_type": "code",
   "execution_count": null,
   "metadata": {},
   "outputs": [],
   "source": [
    "# Imports of Pandas and related packages\n",
    "import pandas as pd\n",
    "import numpy as np\n",
    "%matplotlib inline"
   ]
  },
  {
   "cell_type": "code",
   "execution_count": null,
   "metadata": {},
   "outputs": [],
   "source": [
    "# Imports of plotting and data visualization libraries\n",
    "import hvplot.pandas\n",
    "import matplotlib.pyplot as plt"
   ]
  },
  {
   "cell_type": "code",
   "execution_count": null,
   "metadata": {},
   "outputs": [],
   "source": [
    "# Setting up Binance API keys and client for data endpoints\n",
    "load_dotenv()\n",
    "BINANCE_API_KEY=os.getenv('BINANCE_API_KEY')\n",
    "BINANCE_SECRET_KEY=os.getenv('BINANCE_SECRET_KEY')\n",
    "client = Client(BINANCE_API_KEY, BINANCE_SECRET_KEY, tld='us')"
   ]
  },
  {
   "cell_type": "code",
   "execution_count": null,
   "metadata": {},
   "outputs": [],
   "source": [
    "# Fetching Bitcoin USD data from June 2017 to June 2022 for the interval of 1-Day\n",
    "bitcoin_data = client.get_historical_klines(\"BTCUSDT\", Client.KLINE_INTERVAL_1DAY, \"01 Jun, 2017\", \"30 Jun, 2022\")"
   ]
  },
  {
   "cell_type": "code",
   "execution_count": null,
   "metadata": {},
   "outputs": [],
   "source": [
    "# Converting into a Dataframe\n",
    "bitcoin_df = pd.DataFrame(bitcoin_data)\n",
    "\n",
    "# Renaming columns to their correct labels\n",
    "bitcoin_df.columns = ['open_time', 'open', 'high', 'low', 'close', 'volume', 'close_time', 'quote_asset_volume', 'number_of_trades', 'taker_buy_base_asset_volume', 'taker_buy_quote_asset_volume', 'NaN']\n",
    "\n",
    "# Converting open_time and close_time data values to date-time format\n",
    "bitcoin_df['open_time'] = pd.to_datetime(bitcoin_df['open_time'], unit='ms')\n",
    "bitcoin_df['close_time'] = pd.to_datetime(bitcoin_df['close_time'], unit='ms')\n",
    "\n",
    "# Dropping last column NaN\n",
    "bitcoin_df.drop(columns='NaN', inplace=True)\n",
    "\n",
    "# Display Dataframe\n",
    "print(bitcoin_df.head())\n",
    "print(bitcoin_df.tail())"
   ]
  },
  {
   "cell_type": "code",
   "execution_count": null,
   "metadata": {},
   "outputs": [],
   "source": [
    "# Fixing datatype to replace closing price, open price, high, low and volume from an object to a float\n",
    "bitcoin_df = bitcoin_df.assign(\n",
    "  close = lambda df: df['close'].str.replace('',''),\n",
    "  open = lambda df: df['open'].str.replace('',''),\n",
    "  high = lambda df: df['high'].str.replace('',''),\n",
    "  low = lambda df: df['low'].str.replace('',''),\n",
    "  volume = lambda df: df['volume'].str.replace('',''),\n",
    "  quote_asset_volume = lambda df: df['quote_asset_volume'].str.replace('',''),\n",
    "  taker_buy_base_asset_volume = lambda df: df['taker_buy_base_asset_volume'].str.replace('',''),\n",
    "  taker_buy_quote_asset_volume = lambda df: df['taker_buy_quote_asset_volume'].str.replace('',''),\n",
    ")"
   ]
  },
  {
   "cell_type": "code",
   "execution_count": null,
   "metadata": {},
   "outputs": [],
   "source": [
    "bitcoin_df = bitcoin_df.assign(\n",
    "  close = lambda df: df['close'].astype('float'),\n",
    "  open = lambda df: df['open'].astype('float'),\n",
    "  high = lambda df: df['high'].astype('float'),\n",
    "  low = lambda df: df['low'].astype('float'),\n",
    "  volume = lambda df: df['volume'].astype('float'),\n",
    "  quote_asset_volume = lambda df: df['quote_asset_volume'].astype('float'),\n",
    "  taker_buy_base_asset_volume = lambda df: df['taker_buy_base_asset_volume'].astype('float'),\n",
    "  taker_buy_quote_asset_volume = lambda df: df['taker_buy_quote_asset_volume'].astype('float'),\n",
    "  number_of_trades = lambda df: df['number_of_trades'].astype('float'),\n",
    "  returns = lambda df: df['close'].pct_change()\n",
    ")"
   ]
  },
  {
   "cell_type": "code",
   "execution_count": null,
   "metadata": {},
   "outputs": [],
   "source": [
    "# Pickle dataframe\n",
    "bitcoin_df.to_pickle('bitcoin_df.pkl')"
   ]
  },
  {
   "cell_type": "markdown",
   "metadata": {},
   "source": [
    "### Section 2. Trading Scenario and Strategy Development\n",
    "#### Scenario - Archetype of trader\n",
    "#### Strategy - Explanation of trading strategy and technical indicators utilized to evaluate the strategy"
   ]
  },
  {
   "cell_type": "code",
   "execution_count": null,
   "metadata": {},
   "outputs": [],
   "source": [
    "# Read in the pickled dataframe\n",
    "bitcoin_df = pd.read_pickle('bitcoin_df.pkl')"
   ]
  },
  {
   "cell_type": "code",
   "execution_count": null,
   "metadata": {},
   "outputs": [],
   "source": [
    "# Initializing FinTa library\n",
    "from finta import TA"
   ]
  },
  {
   "cell_type": "markdown",
   "metadata": {},
   "source": [
    "Fibonacci Pivot Point Indicator is calculated by identifying the pivot price (pp) of each day as (high + close + low) / 3. \n",
    "\n",
    "The remaining support levels and resistance levels are calculated as following:\n",
    "\n",
    "        pp = pd.Series(cls.TP(df), name=\"pivot\")  # TA.TP is the calculation of a typical price, which is also used for pivot point\n",
    "\n",
    "        r4 = pp + ((df[\"high\"] - df[\"low\"]) * 1.382)\n",
    "        r3 = pp + ((df[\"high\"] - df[\"low\"]) * 1)\n",
    "        r2 = pp + ((df[\"high\"] - df[\"low\"]) * 0.618)\n",
    "        r1 = pp + ((df[\"high\"] - df[\"low\"]) * 0.382)\n",
    "\n",
    "        s1 = pp - ((df[\"high\"] - df[\"low\"]) * 0.382)\n",
    "        s2 = pp - ((df[\"high\"] - df[\"low\"]) * 0.618)\n",
    "        s3 = pp - ((df[\"high\"] - df[\"low\"]) * 1)\n",
    "        s4 = pp - ((df[\"high\"] - df[\"low\"]) * 1.382)"
   ]
  },
  {
   "cell_type": "code",
   "execution_count": null,
   "metadata": {},
   "outputs": [],
   "source": [
    "# Calculating the Fibonacci pivot points, support levels, and resistance levels on a daily basis.\n",
    "fibonacci_df = TA.PIVOT_FIB(bitcoin_df)\n",
    "print(fibonacci_df.head())\n",
    "print(fibonacci_df.info())"
   ]
  },
  {
   "cell_type": "code",
   "execution_count": null,
   "metadata": {},
   "outputs": [],
   "source": [
    "# Calculating the MACD - Moving Average Convergence Divergence\n",
    "macd_df = TA.MACD(bitcoin_df)\n",
    "print(macd_df.head())\n",
    "print(macd_df.info())"
   ]
  },
  {
   "cell_type": "code",
   "execution_count": null,
   "metadata": {},
   "outputs": [],
   "source": [
    "# Calculating the Wave Trend Oscillator Indicator\n",
    "wto_df = TA.WTO(bitcoin_df)\n",
    "print(wto_df.head())\n",
    "print(wto_df.info())"
   ]
  },
  {
   "cell_type": "code",
   "execution_count": null,
   "metadata": {},
   "outputs": [],
   "source": [
    "## Create dataframes with momentum technical indicators\n",
    "bitcoin_momentum_df = bitcoin_df.assign(\n",
    "  ao = lambda df: TA.AO(df), # Awesome Oscillator\n",
    "  rsi = lambda df: TA.RSI(df), # Relative Strength Index\n",
    "  fib_pivot = fibonacci_df[\"pivot\"],\n",
    "  fib_s1 = fibonacci_df[\"s1\"],\n",
    "  fib_s2 = fibonacci_df[\"s2\"],\n",
    "  fib_s3 = fibonacci_df[\"s3\"],\n",
    "  fib_s4 = fibonacci_df[\"s4\"],\n",
    "  fib_r1 = fibonacci_df[\"r1\"],\n",
    "  fib_r2 = fibonacci_df[\"r2\"],\n",
    "  fib_r3 = fibonacci_df[\"r3\"],\n",
    "  fib_r4 = fibonacci_df[\"r4\"],\n",
    "  macd = macd_df[\"MACD\"],\n",
    "  macd_signal = macd_df[\"SIGNAL\"],\n",
    "  wto_1 = wto_df[\"WT1.\"],\n",
    "  wto_2 = wto_df[\"WT2.\"]\n",
    ")\n",
    "\n",
    "print(bitcoin_momentum_df.head())"
   ]
  },
  {
   "cell_type": "code",
   "execution_count": null,
   "metadata": {},
   "outputs": [],
   "source": [
    "# Analyzing the momentum indicators together\n",
    "momentum_data = bitcoin_momentum_df[[\"close_time\", \"close\", \"ao\", \"rsi\", \"macd\"]]\n",
    "momentum_data.set_index(momentum_data[\"close_time\"], inplace=True)\n",
    "fig, ax = plt.subplots()\n",
    "axes = [ax, ax.twinx(), ax.twinx(), ax.twinx(), ax.twinx()]\n",
    "fig.subplots_adjust(right=0.75)\n",
    "axes[-1].spines['right'].set_position(('axes', 1.2))\n",
    "axes[-1].set_frame_on(True)\n",
    "axes[-1].patch.set_visible(False)\n",
    "\n",
    "colors = ('b', 'r', 'k', 'c', 'y')\n",
    "for ax, color in zip(axes, colors):\n",
    "    data = momentum_data\n",
    "    ax.plot(data, marker='.', linestyle='none', color=color)\n",
    "    ax.set_ylabel('%s Thing' % color, color=color)\n",
    "    ax.tick_params(axis=\"y\", colors=color)\n",
    "axes[0].set_xlabel('X-axis')\n",
    "\n",
    "plt.show()"
   ]
  },
  {
   "cell_type": "code",
   "execution_count": null,
   "metadata": {},
   "outputs": [],
   "source": [
    "bitcoin_momentum_df.corr()"
   ]
  },
  {
   "cell_type": "code",
   "execution_count": null,
   "metadata": {},
   "outputs": [],
   "source": [
    "# Creating Bollinger Bands dataframe\n",
    "bbands_df = TA.BBANDS(bitcoin_df)\n",
    "print(bbands_df.head())\n",
    "print(bbands_df.info())"
   ]
  },
  {
   "cell_type": "code",
   "execution_count": null,
   "metadata": {},
   "outputs": [],
   "source": [
    "## Create dataframe with trend technical indicators\n",
    "bitcoin_trend_df = bitcoin_df.assign(\n",
    "  sar = lambda df: TA.SAR(df),  # Stop And Reverse\n",
    "  ema = lambda df: TA.EMA(df),  # Exponential Moving Average\n",
    "  sma = lambda df: TA.SMA(df),  # Simple Moving Average\n",
    "  bb_upper = bbands_df[\"BB_UPPER\"],\n",
    "  bb_middle = bbands_df[\"BB_MIDDLE\"],\n",
    "  bb_lower = bbands_df[\"BB_LOWER\"]\n",
    ")\n",
    "\n",
    "bitcoin_trend_df.head()"
   ]
  },
  {
   "cell_type": "code",
   "execution_count": null,
   "metadata": {},
   "outputs": [],
   "source": [
    "## Create dataframe with volume technical indicators\n",
    "\n",
    "bitcoin_volume_df = bitcoin_df.assign(\n",
    "  cci = lambda df: TA.CCI(df), # Commodity Channel Index\n",
    "  cmf = lambda df: TA.CHAIKIN(df), # Chaikin Money Flow\n",
    "  obv = lambda df: TA.OBV(df), # On Balance Volume\n",
    "  vzo = lambda df: TA.VZO(df), # Volume Oscillator\n",
    "  roc = lambda df: TA.ROC(df) # Rate of Change\n",
    ")\n",
    "\n",
    "bitcoin_volume_df.head()"
   ]
  },
  {
   "cell_type": "code",
   "execution_count": null,
   "metadata": {},
   "outputs": [],
   "source": [
    "bitcoin_volume_df.corr()"
   ]
  },
  {
   "cell_type": "code",
   "execution_count": null,
   "metadata": {},
   "outputs": [],
   "source": [
    "## Develop ways to create signals"
   ]
  },
  {
   "cell_type": "markdown",
   "metadata": {},
   "source": [
    "### Section 3. Feature evaluation and feature engineering with RandomForest"
   ]
  },
  {
   "cell_type": "markdown",
   "metadata": {},
   "source": [
    "### Section 4. Development of preliminary crypto-trading strategy by identifying best features/indicators"
   ]
  },
  {
   "cell_type": "markdown",
   "metadata": {},
   "source": [
    "### Section 5. Data visualization and dashboarding"
   ]
  },
  {
   "cell_type": "markdown",
   "metadata": {},
   "source": [
    "### Section 6. Deep learning with TensorFlow for Predictive Modeling"
   ]
  },
  {
   "cell_type": "markdown",
   "metadata": {},
   "source": [
    "### Section 7. Backtesting and model evaluation"
   ]
  },
  {
   "cell_type": "code",
   "execution_count": null,
   "metadata": {},
   "outputs": [],
   "source": []
  }
 ],
 "metadata": {
  "kernelspec": {
   "display_name": "Python 3.7.11 ('dev')",
   "language": "python",
   "name": "python3"
  },
  "language_info": {
   "codemirror_mode": {
    "name": "ipython",
    "version": 3
   },
   "file_extension": ".py",
   "mimetype": "text/x-python",
   "name": "python",
   "nbconvert_exporter": "python",
   "pygments_lexer": "ipython3",
   "version": "3.7.11"
  },
  "orig_nbformat": 4,
  "vscode": {
   "interpreter": {
    "hash": "791e60fd51fc77900d55d6998c866640399d50ee93a20793d2c4e207b3f8aea7"
   }
  }
 },
 "nbformat": 4,
 "nbformat_minor": 2
}
