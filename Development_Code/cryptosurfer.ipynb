{
 "cells": [
  {
   "cell_type": "markdown",
   "metadata": {},
   "source": [
    "# FinTech Project Three\n",
    "### Summary"
   ]
  },
  {
   "cell_type": "markdown",
   "metadata": {},
   "source": [
    "### Section 1. Data Preparation\n",
    "Import and initialization of libraries "
   ]
  },
  {
   "cell_type": "code",
   "execution_count": 1,
   "metadata": {},
   "outputs": [],
   "source": [
    "# Imports of OS and API libraries\n",
    "\n",
    "import os\n",
    "from dotenv import load_dotenv\n",
    "import requests\n",
    "from binance import Client"
   ]
  },
  {
   "cell_type": "code",
   "execution_count": 2,
   "metadata": {},
   "outputs": [],
   "source": [
    "# Imports of Pandas and related packages\n",
    "import pandas as pd\n",
    "import numpy as np\n",
    "%matplotlib inline"
   ]
  },
  {
   "cell_type": "code",
   "execution_count": 3,
   "metadata": {},
   "outputs": [],
   "source": [
    "# Setting up Binance API keys and client for data endpoints\n",
    "load_dotenv()\n",
    "BINANCE_API_KEY=os.getenv('BINANCE_API_KEY')\n",
    "BINANCE_SECRET_KEY=os.getenv('BINANCE_SECRET_KEY')\n",
    "client = Client(BINANCE_API_KEY, BINANCE_SECRET_KEY, tld='us')"
   ]
  },
  {
   "cell_type": "code",
   "execution_count": 6,
   "metadata": {},
   "outputs": [],
   "source": [
    "# Fetching Bitcoin USD data from June 2017 to June 2022 for the interval of 1-Day\n",
    "bitcoin_data = client.get_historical_klines(\"BTCUSDT\", Client.KLINE_INTERVAL_1DAY, \"01 Jun, 2017\", \"30 Jun, 2022\")"
   ]
  },
  {
   "cell_type": "code",
   "execution_count": 7,
   "metadata": {},
   "outputs": [
    {
     "data": {
      "text/html": [
       "<div>\n",
       "<style scoped>\n",
       "    .dataframe tbody tr th:only-of-type {\n",
       "        vertical-align: middle;\n",
       "    }\n",
       "\n",
       "    .dataframe tbody tr th {\n",
       "        vertical-align: top;\n",
       "    }\n",
       "\n",
       "    .dataframe thead th {\n",
       "        text-align: right;\n",
       "    }\n",
       "</style>\n",
       "<table border=\"1\" class=\"dataframe\">\n",
       "  <thead>\n",
       "    <tr style=\"text-align: right;\">\n",
       "      <th></th>\n",
       "      <th>open_time</th>\n",
       "      <th>open</th>\n",
       "      <th>high</th>\n",
       "      <th>low</th>\n",
       "      <th>close</th>\n",
       "      <th>volume</th>\n",
       "      <th>close_time</th>\n",
       "      <th>quote_asset_volume</th>\n",
       "      <th>number_of_trades</th>\n",
       "      <th>taker_buy_base_asset_volume</th>\n",
       "      <th>taker_buy_quote_asset_volume</th>\n",
       "    </tr>\n",
       "  </thead>\n",
       "  <tbody>\n",
       "    <tr>\n",
       "      <th>0</th>\n",
       "      <td>2019-09-23</td>\n",
       "      <td>9930.13000000</td>\n",
       "      <td>9930.13000000</td>\n",
       "      <td>9930.13000000</td>\n",
       "      <td>9930.13000000</td>\n",
       "      <td>0.00100000</td>\n",
       "      <td>2019-09-23 23:59:59.999</td>\n",
       "      <td>9.93013000</td>\n",
       "      <td>1</td>\n",
       "      <td>0.00000000</td>\n",
       "      <td>0.00000000</td>\n",
       "    </tr>\n",
       "    <tr>\n",
       "      <th>1</th>\n",
       "      <td>2019-09-24</td>\n",
       "      <td>9637.93000000</td>\n",
       "      <td>9665.05000000</td>\n",
       "      <td>7996.45000000</td>\n",
       "      <td>8519.67000000</td>\n",
       "      <td>202.35079900</td>\n",
       "      <td>2019-09-24 23:59:59.999</td>\n",
       "      <td>1739432.08920509</td>\n",
       "      <td>2345</td>\n",
       "      <td>125.93546400</td>\n",
       "      <td>1075623.60280331</td>\n",
       "    </tr>\n",
       "    <tr>\n",
       "      <th>2</th>\n",
       "      <td>2019-09-25</td>\n",
       "      <td>8528.12000000</td>\n",
       "      <td>8724.77000000</td>\n",
       "      <td>8247.78000000</td>\n",
       "      <td>8435.28000000</td>\n",
       "      <td>55.41797100</td>\n",
       "      <td>2019-09-25 23:59:59.999</td>\n",
       "      <td>469361.69055629</td>\n",
       "      <td>763</td>\n",
       "      <td>29.05942700</td>\n",
       "      <td>246049.20514584</td>\n",
       "    </tr>\n",
       "    <tr>\n",
       "      <th>3</th>\n",
       "      <td>2019-09-26</td>\n",
       "      <td>8434.45000000</td>\n",
       "      <td>8453.20000000</td>\n",
       "      <td>7761.87000000</td>\n",
       "      <td>8064.41000000</td>\n",
       "      <td>41.88007900</td>\n",
       "      <td>2019-09-26 23:59:59.999</td>\n",
       "      <td>340923.66601370</td>\n",
       "      <td>1023</td>\n",
       "      <td>19.80884900</td>\n",
       "      <td>161115.44149782</td>\n",
       "    </tr>\n",
       "    <tr>\n",
       "      <th>4</th>\n",
       "      <td>2019-09-27</td>\n",
       "      <td>8078.75000000</td>\n",
       "      <td>8259.96000000</td>\n",
       "      <td>7858.58000000</td>\n",
       "      <td>8178.73000000</td>\n",
       "      <td>47.14290400</td>\n",
       "      <td>2019-09-27 23:59:59.999</td>\n",
       "      <td>379917.99846542</td>\n",
       "      <td>990</td>\n",
       "      <td>23.90374200</td>\n",
       "      <td>192755.96772991</td>\n",
       "    </tr>\n",
       "    <tr>\n",
       "      <th>...</th>\n",
       "      <td>...</td>\n",
       "      <td>...</td>\n",
       "      <td>...</td>\n",
       "      <td>...</td>\n",
       "      <td>...</td>\n",
       "      <td>...</td>\n",
       "      <td>...</td>\n",
       "      <td>...</td>\n",
       "      <td>...</td>\n",
       "      <td>...</td>\n",
       "      <td>...</td>\n",
       "    </tr>\n",
       "    <tr>\n",
       "      <th>1007</th>\n",
       "      <td>2022-06-26</td>\n",
       "      <td>21489.82000000</td>\n",
       "      <td>21882.15000000</td>\n",
       "      <td>20979.11000000</td>\n",
       "      <td>21047.27000000</td>\n",
       "      <td>586.39114300</td>\n",
       "      <td>2022-06-26 23:59:59.999</td>\n",
       "      <td>12536451.28730396</td>\n",
       "      <td>17433</td>\n",
       "      <td>282.99055700</td>\n",
       "      <td>6054924.37196783</td>\n",
       "    </tr>\n",
       "    <tr>\n",
       "      <th>1008</th>\n",
       "      <td>2022-06-27</td>\n",
       "      <td>21035.02000000</td>\n",
       "      <td>21538.40000000</td>\n",
       "      <td>20520.44000000</td>\n",
       "      <td>20729.39000000</td>\n",
       "      <td>706.57827600</td>\n",
       "      <td>2022-06-27 23:59:59.999</td>\n",
       "      <td>14829893.61772424</td>\n",
       "      <td>21305</td>\n",
       "      <td>363.59247400</td>\n",
       "      <td>7630948.56107983</td>\n",
       "    </tr>\n",
       "    <tr>\n",
       "      <th>1009</th>\n",
       "      <td>2022-06-28</td>\n",
       "      <td>20735.95000000</td>\n",
       "      <td>21210.85000000</td>\n",
       "      <td>20197.04000000</td>\n",
       "      <td>20280.68000000</td>\n",
       "      <td>1245.63697000</td>\n",
       "      <td>2022-06-28 23:59:59.999</td>\n",
       "      <td>25737921.90414807</td>\n",
       "      <td>25714</td>\n",
       "      <td>616.99736900</td>\n",
       "      <td>12747493.58986636</td>\n",
       "    </tr>\n",
       "    <tr>\n",
       "      <th>1010</th>\n",
       "      <td>2022-06-29</td>\n",
       "      <td>20275.20000000</td>\n",
       "      <td>20439.60000000</td>\n",
       "      <td>19851.47000000</td>\n",
       "      <td>20117.99000000</td>\n",
       "      <td>2589.68285300</td>\n",
       "      <td>2022-06-29 23:59:59.999</td>\n",
       "      <td>52120920.38769744</td>\n",
       "      <td>47615</td>\n",
       "      <td>1277.56600800</td>\n",
       "      <td>25712880.05231522</td>\n",
       "    </tr>\n",
       "    <tr>\n",
       "      <th>1011</th>\n",
       "      <td>2022-06-30</td>\n",
       "      <td>20129.62000000</td>\n",
       "      <td>20170.34000000</td>\n",
       "      <td>18634.59000000</td>\n",
       "      <td>19940.13000000</td>\n",
       "      <td>3450.19551500</td>\n",
       "      <td>2022-06-30 23:59:59.999</td>\n",
       "      <td>66512567.22374557</td>\n",
       "      <td>61746</td>\n",
       "      <td>1679.93608300</td>\n",
       "      <td>32381997.60120676</td>\n",
       "    </tr>\n",
       "  </tbody>\n",
       "</table>\n",
       "<p>1012 rows × 11 columns</p>\n",
       "</div>"
      ],
      "text/plain": [
       "      open_time            open            high             low  \\\n",
       "0    2019-09-23   9930.13000000   9930.13000000   9930.13000000   \n",
       "1    2019-09-24   9637.93000000   9665.05000000   7996.45000000   \n",
       "2    2019-09-25   8528.12000000   8724.77000000   8247.78000000   \n",
       "3    2019-09-26   8434.45000000   8453.20000000   7761.87000000   \n",
       "4    2019-09-27   8078.75000000   8259.96000000   7858.58000000   \n",
       "...         ...             ...             ...             ...   \n",
       "1007 2022-06-26  21489.82000000  21882.15000000  20979.11000000   \n",
       "1008 2022-06-27  21035.02000000  21538.40000000  20520.44000000   \n",
       "1009 2022-06-28  20735.95000000  21210.85000000  20197.04000000   \n",
       "1010 2022-06-29  20275.20000000  20439.60000000  19851.47000000   \n",
       "1011 2022-06-30  20129.62000000  20170.34000000  18634.59000000   \n",
       "\n",
       "               close         volume              close_time  \\\n",
       "0      9930.13000000     0.00100000 2019-09-23 23:59:59.999   \n",
       "1      8519.67000000   202.35079900 2019-09-24 23:59:59.999   \n",
       "2      8435.28000000    55.41797100 2019-09-25 23:59:59.999   \n",
       "3      8064.41000000    41.88007900 2019-09-26 23:59:59.999   \n",
       "4      8178.73000000    47.14290400 2019-09-27 23:59:59.999   \n",
       "...              ...            ...                     ...   \n",
       "1007  21047.27000000   586.39114300 2022-06-26 23:59:59.999   \n",
       "1008  20729.39000000   706.57827600 2022-06-27 23:59:59.999   \n",
       "1009  20280.68000000  1245.63697000 2022-06-28 23:59:59.999   \n",
       "1010  20117.99000000  2589.68285300 2022-06-29 23:59:59.999   \n",
       "1011  19940.13000000  3450.19551500 2022-06-30 23:59:59.999   \n",
       "\n",
       "     quote_asset_volume  number_of_trades taker_buy_base_asset_volume  \\\n",
       "0            9.93013000                 1                  0.00000000   \n",
       "1      1739432.08920509              2345                125.93546400   \n",
       "2       469361.69055629               763                 29.05942700   \n",
       "3       340923.66601370              1023                 19.80884900   \n",
       "4       379917.99846542               990                 23.90374200   \n",
       "...                 ...               ...                         ...   \n",
       "1007  12536451.28730396             17433                282.99055700   \n",
       "1008  14829893.61772424             21305                363.59247400   \n",
       "1009  25737921.90414807             25714                616.99736900   \n",
       "1010  52120920.38769744             47615               1277.56600800   \n",
       "1011  66512567.22374557             61746               1679.93608300   \n",
       "\n",
       "     taker_buy_quote_asset_volume  \n",
       "0                      0.00000000  \n",
       "1                1075623.60280331  \n",
       "2                 246049.20514584  \n",
       "3                 161115.44149782  \n",
       "4                 192755.96772991  \n",
       "...                           ...  \n",
       "1007             6054924.37196783  \n",
       "1008             7630948.56107983  \n",
       "1009            12747493.58986636  \n",
       "1010            25712880.05231522  \n",
       "1011            32381997.60120676  \n",
       "\n",
       "[1012 rows x 11 columns]"
      ]
     },
     "execution_count": 7,
     "metadata": {},
     "output_type": "execute_result"
    }
   ],
   "source": [
    "# Converting into a Dataframe\n",
    "bitcoin_df = pd.DataFrame(bitcoin_data)\n",
    "\n",
    "# Renaming columns to their correct labels\n",
    "bitcoin_df.columns = ['open_time', 'open', 'high', 'low', 'close', 'volume', 'close_time', 'quote_asset_volume', 'number_of_trades', 'taker_buy_base_asset_volume', 'taker_buy_quote_asset_volume', 'NaN']\n",
    "\n",
    "# Converting open_time and close_time data values to date-time format\n",
    "bitcoin_df['open_time'] = pd.to_datetime(bitcoin_df['open_time'], unit='ms')\n",
    "bitcoin_df['close_time'] = pd.to_datetime(bitcoin_df['close_time'], unit='ms')\n",
    "\n",
    "# Dropping last column NaN\n",
    "bitcoin_df.drop(columns='NaN', inplace=True)\n",
    "\n",
    "# Display Dataframe\n",
    "bitcoin_df"
   ]
  },
  {
   "cell_type": "code",
   "execution_count": 9,
   "metadata": {},
   "outputs": [],
   "source": [
    "# Fixing datatype to replace closing price, open price, high, low and volume from an object to a float\n",
    "bitcoin_df = bitcoin_df.assign(\n",
    "  close = lambda df: df['close'].str.replace('',''),\n",
    "  open = lambda df: df['open'].str.replace('',''),\n",
    "  high = lambda df: df['high'].str.replace('',''),\n",
    "  low = lambda df: df['low'].str.replace('',''),\n",
    "  volume = lambda df: df['volume'].str.replace('',''),\n",
    "  quote_asset_volume = lambda df: df['quote_asset_volume'].str.replace('',''),\n",
    "  taker_buy_base_asset_volume = lambda df: df['taker_buy_base_asset_volume'].str.replace('',''),\n",
    "  taker_buy_quote_asset_volume = lambda df: df['taker_buy_quote_asset_volume'].str.replace('','')\n",
    ")"
   ]
  },
  {
   "cell_type": "code",
   "execution_count": 10,
   "metadata": {},
   "outputs": [],
   "source": [
    "bitcoin_df = bitcoin_df.assign(\n",
    "  close = lambda df: df['close'].astype('float'),\n",
    "  open = lambda df: df['open'].astype('float'),\n",
    "  high = lambda df: df['high'].astype('float'),\n",
    "  low = lambda df: df['low'].astype('float'),\n",
    "  volume = lambda df: df['volume'].astype('float'),\n",
    "  quote_asset_volume = lambda df: df['quote_asset_volume'].astype('float'),\n",
    "  taker_buy_base_asset_volume = lambda df: df['taker_buy_base_asset_volume'].astype('float'),\n",
    "  taker_buy_quote_asset_volume = lambda df: df['taker_buy_quote_asset_volume'].astype('float'),\n",
    "  number_of_trades = lambda df: df['number_of_trades'].astype('float')\n",
    ")"
   ]
  },
  {
   "cell_type": "code",
   "execution_count": 11,
   "metadata": {},
   "outputs": [],
   "source": [
    "# Pickle dataframe\n",
    "bitcoin_df.to_pickle('bitcoin_df.pkl')"
   ]
  },
  {
   "cell_type": "markdown",
   "metadata": {},
   "source": [
    "### Section 2. Trading Scenario and Strategy Development\n",
    "#### Scenario - Archetype of trader\n",
    "#### Strategy - Explanation of trading strategy and technical indicators utilized to evaluate the strategy"
   ]
  },
  {
   "cell_type": "code",
   "execution_count": null,
   "metadata": {},
   "outputs": [],
   "source": [
    "# Read in the pickled dataframe\n",
    "bitcoin_df = pd.read_pickle('bitcoin_df.pkl')"
   ]
  },
  {
   "cell_type": "code",
   "execution_count": null,
   "metadata": {},
   "outputs": [],
   "source": [
    "## Create dataframes with momentum technical indicators"
   ]
  },
  {
   "cell_type": "code",
   "execution_count": null,
   "metadata": {},
   "outputs": [],
   "source": [
    "## Create dataframe with trend technical indicators"
   ]
  },
  {
   "cell_type": "code",
   "execution_count": null,
   "metadata": {},
   "outputs": [],
   "source": [
    "## Create dataframe with volume technical indicators"
   ]
  },
  {
   "cell_type": "code",
   "execution_count": null,
   "metadata": {},
   "outputs": [],
   "source": [
    "## Develop ways to create signals"
   ]
  },
  {
   "cell_type": "markdown",
   "metadata": {},
   "source": [
    "### Section 3. Feature evaluation and feature engineering with RandomForest"
   ]
  },
  {
   "cell_type": "markdown",
   "metadata": {},
   "source": [
    "### Section 4. Development of preliminary crypto-trading strategy by identifying best features/indicators"
   ]
  },
  {
   "cell_type": "markdown",
   "metadata": {},
   "source": [
    "### Section 5. Data visualization and dashboarding"
   ]
  },
  {
   "cell_type": "markdown",
   "metadata": {},
   "source": [
    "### Section 6. Deep learning with TensorFlow for Predictive Modeling"
   ]
  },
  {
   "cell_type": "markdown",
   "metadata": {},
   "source": [
    "### Section 7. Backtesting and model evaluation"
   ]
  },
  {
   "cell_type": "code",
   "execution_count": null,
   "metadata": {},
   "outputs": [],
   "source": []
  }
 ],
 "metadata": {
  "kernelspec": {
   "display_name": "Python 3.7.11 ('dev')",
   "language": "python",
   "name": "python3"
  },
  "language_info": {
   "codemirror_mode": {
    "name": "ipython",
    "version": 3
   },
   "file_extension": ".py",
   "mimetype": "text/x-python",
   "name": "python",
   "nbconvert_exporter": "python",
   "pygments_lexer": "ipython3",
   "version": "3.7.11"
  },
  "orig_nbformat": 4,
  "vscode": {
   "interpreter": {
    "hash": "791e60fd51fc77900d55d6998c866640399d50ee93a20793d2c4e207b3f8aea7"
   }
  }
 },
 "nbformat": 4,
 "nbformat_minor": 2
}
